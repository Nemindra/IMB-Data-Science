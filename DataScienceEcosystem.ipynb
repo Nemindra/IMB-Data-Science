{
  "cells": [
    {
      "cell_type": "markdown",
      "metadata": {
        "id": "view-in-github",
        "colab_type": "text"
      },
      "source": [
        "<a href=\"https://colab.research.google.com/github/Nemindra/IMB-Data-Science/blob/main/DataScienceEcosystem.ipynb\" target=\"_parent\"><img src=\"https://colab.research.google.com/assets/colab-badge.svg\" alt=\"Open In Colab\"/></a>"
      ]
    },
    {
      "cell_type": "markdown",
      "metadata": {
        "id": "zt0iXxjmN37W"
      },
      "source": [
        "<center>\n",
        "    <img src=\"https://cf-courses-data.s3.us.cloud-object-storage.appdomain.cloud/IBMDeveloperSkillsNetwork-DS0105EN-SkillsNetwork/labs/Module2/images/SN_web_lightmode.png\" width=\"300\" alt=\"cognitiveclass.ai logo\">\n",
        "</center>\n"
      ]
    },
    {
      "cell_type": "markdown",
      "source": [
        "# Tools for data science"
      ],
      "metadata": {
        "id": "BwFb7GAIOJ11"
      }
    },
    {
      "cell_type": "markdown",
      "source": [
        "Data science tasks are categorized into data management, data integration and transformation, data visualization, model building, model deployment, and model monitoring and assessment. To perform these tasks effectively, data scientists rely on tools such as data asset management, code asset management, execution environments, and development environments. Data asset management helps organize and manage data from various sources, while code asset management enables version control and collaboration for code files. Execution environments provide the necessary resources to compile and execute code, and development environments offer workspace and tools for developing, testing, and deploying code."
      ],
      "metadata": {
        "id": "pE3whW_cRKEr"
      }
    },
    {
      "cell_type": "markdown",
      "source": [
        "**Objectives:**\n",
        "\n",
        "*   Popular data science languages.\n",
        "\n",
        "*   Popular data science libraries.\n",
        "*   Open source development envirnments for data science.\n",
        "\n",
        "\n",
        "*   Some arithmatic expressions\n",
        "\n",
        "\n",
        "\n",
        "*   Work with GIT hub\n",
        "\n",
        "\n",
        "\n",
        "\n",
        "\n"
      ],
      "metadata": {
        "id": "b2QQyoNqZIhQ"
      }
    },
    {
      "cell_type": "markdown",
      "source": [
        "Some of the popular languages that Data Scientists use are:\n",
        "\n",
        "1.   Python\n",
        "2.   Scala\n",
        "\n",
        "1.   R\n",
        "2.   Java\n",
        "\n",
        "\n",
        "\n"
      ],
      "metadata": {
        "id": "wTgULDLSR6Eg"
      }
    },
    {
      "cell_type": "markdown",
      "source": [
        "Some of the commonly used libraries used by Data Scientists include:\n",
        "\n",
        "1.   Pandas\n",
        "\n",
        "1.   Numpy\n",
        "3.   Scikit Learn\n",
        "\n",
        "\n",
        "4.   Tensorflow\n",
        "\n",
        "5.   Matplotlib\n",
        "6.   Keras\n",
        "\n",
        "\n",
        "\n"
      ],
      "metadata": {
        "id": "NbyGIBQ2SLGt"
      }
    },
    {
      "cell_type": "markdown",
      "source": [
        "| Data Science Tools |\n",
        "|--------------------|\n",
        "| Jupyter Notebook  |\n",
        "| Colab            |\n",
        "| RStudio            |\n"
      ],
      "metadata": {
        "id": "4whJ_hOqVQuL"
      }
    },
    {
      "cell_type": "markdown",
      "source": [
        "###Below are a few examples of evaluating arithmetic expressions in Python"
      ],
      "metadata": {
        "id": "K3Y2a_FzXng0"
      }
    },
    {
      "cell_type": "code",
      "source": [
        "#This a simple arithmetic expression to mutiply then add integers\n",
        "(3*4)+5\n"
      ],
      "metadata": {
        "colab": {
          "base_uri": "https://localhost:8080/"
        },
        "id": "EOq_jSXmXLQh",
        "outputId": "6665e201-8794-4dff-f4ec-53d39fd68a90"
      },
      "execution_count": 4,
      "outputs": [
        {
          "output_type": "execute_result",
          "data": {
            "text/plain": [
              "17"
            ]
          },
          "metadata": {},
          "execution_count": 4
        }
      ]
    },
    {
      "cell_type": "code",
      "source": [
        "#This will convert 200 minutes to hours by diving by 60\n",
        "x = 200\n",
        "mtoh = x/60\n",
        "print(mtoh)"
      ],
      "metadata": {
        "colab": {
          "base_uri": "https://localhost:8080/"
        },
        "id": "LMy11X--XSuC",
        "outputId": "b7807e97-7308-477c-c77e-77141e111cb9"
      },
      "execution_count": 7,
      "outputs": [
        {
          "output_type": "stream",
          "name": "stdout",
          "text": [
            "3.3333333333333335\n"
          ]
        }
      ]
    },
    {
      "cell_type": "markdown",
      "source": [
        "##Author\n",
        "Gihan Nemindra"
      ],
      "metadata": {
        "id": "D07mwPsrij2h"
      }
    }
  ],
  "metadata": {
    "kernelspec": {
      "display_name": "Python",
      "language": "python",
      "name": "conda-env-python-py"
    },
    "language_info": {
      "name": ""
    },
    "colab": {
      "provenance": [],
      "include_colab_link": true
    }
  },
  "nbformat": 4,
  "nbformat_minor": 0
}